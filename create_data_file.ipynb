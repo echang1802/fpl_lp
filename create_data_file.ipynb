{
 "cells": [
  {
   "cell_type": "code",
   "execution_count": 1,
   "id": "4e0697aa-bad2-4720-8393-23abcee4cadd",
   "metadata": {},
   "outputs": [],
   "source": [
    "from api_fpl.requests import api\n",
    "from optimizer.opt import optimizer"
   ]
  },
  {
   "cell_type": "code",
   "execution_count": 2,
   "id": "bc0e2cc1-8280-42f5-920b-d220b26003a4",
   "metadata": {},
   "outputs": [],
   "source": [
    "fpl = api()"
   ]
  },
  {
   "cell_type": "code",
   "execution_count": 3,
   "id": "0c088b4e-c738-4c32-9fc1-acbf01283a69",
   "metadata": {},
   "outputs": [],
   "source": [
    "opt = optimizer(fpl)"
   ]
  },
  {
   "cell_type": "code",
   "execution_count": 4,
   "id": "4f157314-ca16-4dc3-bb60-08c9335607cd",
   "metadata": {},
   "outputs": [],
   "source": [
    "result = fpl._request(\"base\")"
   ]
  },
  {
   "cell_type": "code",
   "execution_count": 5,
   "id": "e819fd39-7386-4214-b75a-a3579d8c6e7f",
   "metadata": {
    "tags": []
   },
   "outputs": [
    {
     "name": "stdout",
     "output_type": "stream",
     "text": [
      "Total exceptions: 0\n"
     ]
    }
   ],
   "source": [
    "import unicodedata\n",
    "import re\n",
    "\n",
    "def limpiar_texto(input):\n",
    "    input = unicodedata.normalize('NFD', input)\n",
    "    input = input.encode('ascii', 'ignore')\n",
    "    input = input.decode(\"utf-8\")\n",
    "    input = re.sub('[^\\w\\s]', '', input).strip()\n",
    "    return str(input)\n",
    "\n",
    "costs_file = open(\"models/data/players_costs.dat\", \"w\")\n",
    "scores_file = open(\"models/data/players_predicted_scores.dat\", \"w\")\n",
    "goalkeepers = open(\"models/data/goalkeepers.dat\", \"w\")\n",
    "defenders = open(\"models/data/defenders.dat\", \"w\")\n",
    "midfielders = open(\"models/data/midfielders.dat\", \"w\")\n",
    "forwards = open(\"models/data/forwards.dat\", \"w\")\n",
    "\n",
    "teams_files = {}\n",
    "for team in result[\"teams\"]:\n",
    "    teams_files[team[\"code\"]] = open(f\"models/data/{team['name']}_players.dat\", \"w\")\n",
    "    \n",
    "exceptions = 0\n",
    "for player in result[\"elements\"]:\n",
    "    player_name = limpiar_texto(f\"{player['first_name'].replace(' ', '_')}_{player['second_name'].replace(' ', '_')}\")\n",
    "    try:\n",
    "        teams_files[player[\"team_code\"]].write(f\"{player_name}\\n\")\n",
    "        \n",
    "        costs_file.write(f\"{player_name}\\t{player['now_cost']/10}\\n\")\n",
    "        scores_file.write(f\"{player_name}\\t{player['event_points']}\\n\")\n",
    "        \n",
    "        if player[\"element_type\"] == 1:\n",
    "            goalkeepers.write(f\"{player_name}\\n\")\n",
    "        elif player[\"element_type\"] == 2:\n",
    "            defenders.write(f\"{player_name}\\n\")\n",
    "        elif player[\"element_type\"] == 3:\n",
    "            midfielders.write(f\"{player_name}\\n\")\n",
    "        elif player[\"element_type\"] == 4:\n",
    "            forwards.write(f\"{player_name}\\n\")\n",
    "    except:\n",
    "        exceptions += 1\n",
    "\n",
    "costs_file.close()\n",
    "scores_file.close()\n",
    "goalkeepers.close()\n",
    "defenders.close()\n",
    "midfielders.close()\n",
    "forwards.close()\n",
    "\n",
    "for team in result[\"teams\"]:\n",
    "    teams_files[team[\"code\"]].close()\n",
    "        \n",
    "print(f\"Total exceptions: {exceptions}\")"
   ]
  },
  {
   "cell_type": "code",
   "execution_count": null,
   "id": "514a5c82-48d4-449a-b91a-d0ed861f844b",
   "metadata": {},
   "outputs": [],
   "source": []
  }
 ],
 "metadata": {
  "kernelspec": {
   "display_name": "Python 3 (ipykernel)",
   "language": "python",
   "name": "python3"
  },
  "language_info": {
   "codemirror_mode": {
    "name": "ipython",
    "version": 3
   },
   "file_extension": ".py",
   "mimetype": "text/x-python",
   "name": "python",
   "nbconvert_exporter": "python",
   "pygments_lexer": "ipython3",
   "version": "3.9.7"
  }
 },
 "nbformat": 4,
 "nbformat_minor": 5
}
